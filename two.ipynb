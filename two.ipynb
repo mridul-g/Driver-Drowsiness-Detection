{
 "cells": [
  {
   "cell_type": "markdown",
   "metadata": {},
   "source": [
    "### load the model and realtime analysis"
   ]
  },
  {
   "cell_type": "code",
   "execution_count": 7,
   "metadata": {},
   "outputs": [
    {
     "name": "stderr",
     "output_type": "stream",
     "text": [
      "/var/folders/5d/cxg576h92j906wv9p0xyjc3c0000gn/T/ipykernel_91219/1047305117.py:69: DeprecationWarning: Conversion of an array with ndim > 0 to a scalar is deprecated, and will error in future. Ensure you extract a single element from your array before performing this operation. (Deprecated NumPy 1.25.)\n",
      "  prediction = int(output_data[0] > 0.3)  # 1 for drowsy, 0 for awake\n"
     ]
    },
    {
     "ename": "",
     "evalue": "",
     "output_type": "error",
     "traceback": [
      "\u001b[1;31mThe Kernel crashed while executing code in the the current cell or a previous cell. Please review the code in the cell(s) to identify a possible cause of the failure. Click <a href='https://aka.ms/vscodeJupyterKernelCrash'>here</a> for more info. View Jupyter <a href='command:jupyter.viewOutput'>log</a> for further details."
     ]
    }
   ],
   "source": [
    "import cv2\n",
    "import numpy as np\n",
    "import time\n",
    "import dlib\n",
    "from scipy.spatial import distance as dist\n",
    "import tflite_runtime.interpreter as tflite\n",
    "import tensorflow as tf\n",
    "\n",
    "# Function to calculate eye aspect ratio (EAR)\n",
    "def calculate_ear(eye):\n",
    "    A = dist.euclidean(eye[1], eye[5])\n",
    "    B = dist.euclidean(eye[2], eye[4])\n",
    "    C = dist.euclidean(eye[0], eye[3])\n",
    "    return (A + B) / (2.0 * C)\n",
    "\n",
    "# Function to calculate mouth aspect ratio (MAR)\n",
    "def calculate_mar(mouth):\n",
    "    A = dist.euclidean(mouth[2], mouth[10])\n",
    "    B = dist.euclidean(mouth[4], mouth[8])\n",
    "    C = dist.euclidean(mouth[0], mouth[6])\n",
    "    return (A + B) / (2.0 * C)\n",
    "\n",
    "# Load dlib's face detector and shape predictor\n",
    "detector = dlib.get_frontal_face_detector()\n",
    "predictor = dlib.shape_predictor('shape_predictor_68_face_landmarks.dat')  # Pre-trained landmark model\n",
    "\n",
    "# Load the TFLite model\n",
    "interpreter = tf.lite.Interpreter(model_path='drowsiness_model.tflite')\n",
    "interpreter.allocate_tensors()\n",
    "\n",
    "# Get input and output details\n",
    "input_details = interpreter.get_input_details()\n",
    "output_details = interpreter.get_output_details()\n",
    "\n",
    "# Real-time detection\n",
    "cap = cv2.VideoCapture(1)\n",
    "\n",
    "drowsy_start_time = None  # Initialize the drowsy start time\n",
    "drowsy_threshold = 4      # Threshold for drowsiness in seconds\n",
    "\n",
    "while cap.isOpened():\n",
    "    ret, frame = cap.read()\n",
    "    if not ret:\n",
    "        break\n",
    "\n",
    "    gray = cv2.cvtColor(frame, cv2.COLOR_BGR2GRAY)\n",
    "    faces = detector(gray)\n",
    "\n",
    "    is_drowsy = False  # Track if the current frame detects drowsiness\n",
    "\n",
    "    for face in faces:\n",
    "        # Detect landmarks\n",
    "        landmarks = predictor(gray, face)\n",
    "        left_eye = np.array([(landmarks.part(i).x, landmarks.part(i).y) for i in range(36, 42)])\n",
    "        right_eye = np.array([(landmarks.part(i).x, landmarks.part(i).y) for i in range(42, 48)])\n",
    "        mouth = np.array([(landmarks.part(i).x, landmarks.part(i).y) for i in range(48, 68)])\n",
    "\n",
    "        # Calculate EAR and MAR\n",
    "        ear = (calculate_ear(left_eye) + calculate_ear(right_eye)) / 2.0\n",
    "        mar = calculate_mar(mouth)\n",
    "\n",
    "        # Prepare input for the model\n",
    "        input_data = np.array([[ear, mar]], dtype=np.float32)\n",
    "        interpreter.set_tensor(input_details[0]['index'], input_data)\n",
    "\n",
    "        # Perform inference\n",
    "        interpreter.invoke()\n",
    "        output_data = interpreter.get_tensor(output_details[0]['index'])\n",
    "        prediction = int(output_data[0] > 0.99)  # 1 for drowsy, 0 for awake\n",
    "\n",
    "        if prediction == 1:\n",
    "            is_drowsy = True  # Set flag for this frame\n",
    "            color = (0, 0, 255)  # Red for drowsy\n",
    "        else:\n",
    "            color = (0, 255, 0)  # Green for awake\n",
    "\n",
    "        # Draw rectangle around the face\n",
    "        x, y, w, h = face.left(), face.top(), face.width(), face.height()\n",
    "        cv2.rectangle(frame, (x, y), (x + w, y + h), color, 2)\n",
    "\n",
    "    # Track continuous drowsiness\n",
    "    if is_drowsy:\n",
    "        if drowsy_start_time is None:\n",
    "            drowsy_start_time = time.time()  # Start timer\n",
    "        elif time.time() - drowsy_start_time >= drowsy_threshold:\n",
    "            cv2.putText(frame, \"DROWSY!\", (50, 50), cv2.FONT_HERSHEY_SIMPLEX, 2, (0, 0, 255), 3)\n",
    "    else:\n",
    "        drowsy_start_time = None  # Reset timer if not drowsy\n",
    "\n",
    "    # Display the frame\n",
    "    cv2.imshow(\"Drowsiness Detection\", frame)\n",
    "\n",
    "    # Break the loop on 'q' key press\n",
    "    if cv2.waitKey(1) & 0xFF == ord('q'):\n",
    "        break\n",
    "\n",
    "cap.release()\n",
    "cv2.destroyAllWindows()\n"
   ]
  },
  {
   "cell_type": "code",
   "execution_count": null,
   "metadata": {},
   "outputs": [],
   "source": []
  }
 ],
 "metadata": {
  "kernelspec": {
   "display_name": "Python 3",
   "language": "python",
   "name": "python3"
  },
  "language_info": {
   "codemirror_mode": {
    "name": "ipython",
    "version": 3
   },
   "file_extension": ".py",
   "mimetype": "text/x-python",
   "name": "python",
   "nbconvert_exporter": "python",
   "pygments_lexer": "ipython3",
   "version": "3.11.8"
  },
  "orig_nbformat": 4
 },
 "nbformat": 4,
 "nbformat_minor": 2
}
